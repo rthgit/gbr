{
  "cells": [
    {
      "cell_type": "markdown",
      "metadata": {},
      "source": [
        "# GRB221009A (BOAT) Quantum Gravity Analysis\n",
        "## Comprehensive Analysis with Time Alignment and Robustness Tests\n",
        "\n",
        "This notebook provides a complete analysis of GRB221009A for quantum gravity effects, including:\n",
        "- Time alignment correction\n",
        "- Robustness tests\n",
        "- IRF/Event class analysis\n",
        "- Comprehensive visualizations\n"
      ]
    },
    {
      "cell_type": "code",
      "execution_count": null,
      "metadata": {},
      "outputs": [],
      "source": [
        "# Import required libraries\n",
        "import numpy as np\n",
        "import matplotlib.pyplot as plt\n",
        "import seaborn as sns\n",
        "from astropy.io import fits\n",
        "from astropy.time import Time\n",
        "from astropy.cosmology import Planck18\n",
        "from scipy import stats\n",
        "import pandas as pd\n",
        "from sklearn.linear_model import RANSACRegressor, LinearRegression\n",
        "from sklearn.utils import resample\n",
        "import warnings\n",
        "warnings.filterwarnings('ignore')\n",
        "\n",
        "# Set plotting style\n",
        "plt.style.use('seaborn-v0_8-whitegrid')\n",
        "sns.set_palette(\"husl\")\n",
        "\n",
        "# Configure matplotlib for publication quality\n",
        "plt.rcParams.update({\n",
        "    'figure.figsize': (12, 8),\n",
        "    'figure.dpi': 300,\n",
        "    'savefig.dpi': 300,\n",
        "    'savefig.bbox': 'tight',\n",
        "    'font.size': 12,\n",
        "    'axes.titlesize': 14,\n",
        "    'axes.labelsize': 12,\n",
        "    'xtick.labelsize': 10,\n",
        "    'ytick.labelsize': 10,\n",
        "    'legend.fontsize': 11,\n",
        "    'lines.linewidth': 2,\n",
        "    'lines.markersize': 8,\n",
        "    'grid.alpha': 0.3\n",
        "})\n",
        "\n",
        "print(\"✅ Libraries imported successfully!\")\n"
      ]
    }
  ],
  "metadata": {
    "language_info": {
      "name": "python"
    }
  },
  "nbformat": 4,
  "nbformat_minor": 2
}
